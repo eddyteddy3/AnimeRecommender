{
 "cells": [
  {
   "cell_type": "code",
   "execution_count": 23,
   "id": "b9504e24",
   "metadata": {},
   "outputs": [],
   "source": [
    "import numpy as np\n",
    "import pandas as pd\n",
    "import matplotlib.pyplot as plt"
   ]
  },
  {
   "cell_type": "code",
   "execution_count": 24,
   "id": "52af304d",
   "metadata": {},
   "outputs": [],
   "source": [
    "# path to dataset...\n",
    "anime = pd.read_csv(\"../anime.csv\")\n",
    "rating = pd.read_csv(\"../rating.csv\")"
   ]
  },
  {
   "cell_type": "code",
   "execution_count": 25,
   "id": "f254a4db",
   "metadata": {},
   "outputs": [],
   "source": [
    "# dropping the duplicates and duplicate values\n",
    "anime.dropna(axis=0, inplace=True)\n",
    "rating.drop_duplicates(keep='first',inplace=True)"
   ]
  },
  {
   "cell_type": "code",
   "execution_count": 26,
   "id": "740802fc",
   "metadata": {},
   "outputs": [],
   "source": [
    "# merging the tables and renaming subsequently\n",
    "fulldata = pd.merge(anime,rating,on=\"anime_id\")\n",
    "fulldata = fulldata.rename(columns={\"rating_x\": \"overall_rating\"})\n",
    "fulldata = fulldata.rename(columns={\"rating_y\": \"user_rating\"})"
   ]
  },
  {
   "cell_type": "code",
   "execution_count": 27,
   "id": "9f9696f8",
   "metadata": {},
   "outputs": [],
   "source": [
    "# pivoting the table in order to ease the life to create the sparse matrix\n",
    "data_pivot = fulldata.pivot_table(index=\"name\",columns=\"user_id\",values=\"user_rating\").fillna(0)\n",
    "\n",
    "# I tried to create the plot bar out of pivot table but for some reason its taking too long..\n",
    "\n",
    "# data_pivot.head(5)\n",
    "# data_pivot.T.plot(kind='bar', ylabel='Anme Name')\n",
    "# data_pivot.columns = data_pivot.columns.astype(str)\n",
    "# data_pivot.plot.bar()\n",
    "# plt.show()\n",
    "# df = pd.pivot_table(fulldata, values = 'user_rating', index = 'name', columns = 'user_id')\n",
    "# df_temp = df.head(100)\n",
    "# df_temp.columns = df_temp.columns.astype(str)\n",
    "# df_temp.plot.bar()\n",
    "# df.plot(kind='bar')\n",
    "# plt.show()\n"
   ]
  },
  {
   "cell_type": "code",
   "execution_count": 28,
   "id": "a1e9d2a8",
   "metadata": {},
   "outputs": [],
   "source": [
    "from scipy.sparse import csr_matrix\n",
    "from sklearn.neighbors import NearestNeighbors\n",
    "\n",
    "# converting to compressed sparse matrix (CSR)\n",
    "data_matrix = csr_matrix(data_pivot.values)\n",
    "\n",
    "# calculating nearest neighbor using cosine similarity\n",
    "model_knn = NearestNeighbors(metric = \"cosine\", algorithm = \"brute\")\n",
    "model_knn.fit(data_matrix)\n",
    "\n",
    "# random anime title\n",
    "query_no = np.random.choice(data_pivot.shape[0]) \n",
    "distances, indices = model_knn.kneighbors(data_pivot.iloc[query_no,:].values.reshape(1, -1), n_neighbors = 9)"
   ]
  },
  {
   "cell_type": "code",
   "execution_count": 29,
   "id": "4eadf665",
   "metadata": {},
   "outputs": [
    {
     "name": "stdout",
     "output_type": "stream",
     "text": [
      "Recommendations for Super Backkom viewers :\n",
      "\n"
     ]
    },
    {
     "data": {
      "text/html": [
       "<div>\n",
       "<style scoped>\n",
       "    .dataframe tbody tr th:only-of-type {\n",
       "        vertical-align: middle;\n",
       "    }\n",
       "\n",
       "    .dataframe tbody tr th {\n",
       "        vertical-align: top;\n",
       "    }\n",
       "\n",
       "    .dataframe thead th {\n",
       "        text-align: right;\n",
       "    }\n",
       "</style>\n",
       "<table border=\"1\" class=\"dataframe\">\n",
       "  <thead>\n",
       "    <tr style=\"text-align: right;\">\n",
       "      <th></th>\n",
       "      <th>Anime Name</th>\n",
       "      <th>Rating</th>\n",
       "    </tr>\n",
       "    <tr>\n",
       "      <th>No</th>\n",
       "      <th></th>\n",
       "      <th></th>\n",
       "    </tr>\n",
       "  </thead>\n",
       "  <tbody>\n",
       "    <tr>\n",
       "      <th>1</th>\n",
       "      <td>Contact 2</td>\n",
       "      <td>5.58</td>\n",
       "    </tr>\n",
       "    <tr>\n",
       "      <th>2</th>\n",
       "      <td>Super Backkom</td>\n",
       "      <td>5.22</td>\n",
       "    </tr>\n",
       "    <tr>\n",
       "      <th>3</th>\n",
       "      <td>I Love Sky</td>\n",
       "      <td>5.67</td>\n",
       "    </tr>\n",
       "    <tr>\n",
       "      <th>4</th>\n",
       "      <td>I Love Picnic</td>\n",
       "      <td>5.58</td>\n",
       "    </tr>\n",
       "    <tr>\n",
       "      <th>5</th>\n",
       "      <td>Ultra Dino Makera</td>\n",
       "      <td>5.35</td>\n",
       "    </tr>\n",
       "    <tr>\n",
       "      <th>6</th>\n",
       "      <td>Unko-san: Tsuiteru Hito ni Shika Mienai Yousei</td>\n",
       "      <td>3.25</td>\n",
       "    </tr>\n",
       "    <tr>\n",
       "      <th>7</th>\n",
       "      <td>Organic</td>\n",
       "      <td>5.56</td>\n",
       "    </tr>\n",
       "    <tr>\n",
       "      <th>8</th>\n",
       "      <td>Sekishoku Elegy</td>\n",
       "      <td>6.17</td>\n",
       "    </tr>\n",
       "  </tbody>\n",
       "</table>\n",
       "</div>"
      ],
      "text/plain": [
       "                                        Anime Name  Rating\n",
       "No                                                        \n",
       "1                                        Contact 2    5.58\n",
       "2                                    Super Backkom    5.22\n",
       "3                                       I Love Sky    5.67\n",
       "4                                    I Love Picnic    5.58\n",
       "5                                Ultra Dino Makera    5.35\n",
       "6   Unko-san: Tsuiteru Hito ni Shika Mienai Yousei    3.25\n",
       "7                                          Organic    5.56\n",
       "8                                  Sekishoku Elegy    6.17"
      ]
     },
     "execution_count": 29,
     "metadata": {},
     "output_type": "execute_result"
    }
   ],
   "source": [
    "no = []\n",
    "name = []\n",
    "distance = []\n",
    "rating = []\n",
    "\n",
    "# looping over until the number of neighbor of nearest selected anime\n",
    "for i in range(0, len(distances.flatten())):\n",
    "    if i == 0:\n",
    "        print(f\"Recommendations for {data_pivot.index[query_no]} viewers :\\n\") # anime itself that is selected for recommendation\n",
    "    else:\n",
    "        no.append(i)\n",
    "        name.append(data_pivot.index[indices.flatten()[i]])\n",
    "        distance.append(distances.flatten()[i])\n",
    "        rating.append(*anime[anime[\"name\"]==data_pivot.index[indices.flatten()[i]]][\"rating\"].values)\n",
    "\n",
    "dic = {\"No\" : no, \"Anime Name\" : name, \"Rating\" : rating}\n",
    "recommendation = pd.DataFrame(data = dic)\n",
    "recommendation.set_index(\"No\", inplace = True)\n",
    "recommendation"
   ]
  },
  {
   "cell_type": "code",
   "execution_count": null,
   "id": "0b5b0899",
   "metadata": {},
   "outputs": [],
   "source": []
  }
 ],
 "metadata": {
  "kernelspec": {
   "display_name": "Python 3 (ipykernel)",
   "language": "python",
   "name": "python3"
  },
  "language_info": {
   "codemirror_mode": {
    "name": "ipython",
    "version": 3
   },
   "file_extension": ".py",
   "mimetype": "text/x-python",
   "name": "python",
   "nbconvert_exporter": "python",
   "pygments_lexer": "ipython3",
   "version": "3.9.6"
  }
 },
 "nbformat": 4,
 "nbformat_minor": 5
}
